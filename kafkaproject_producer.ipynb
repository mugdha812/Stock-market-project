{
 "cells": [
  {
   "cell_type": "code",
   "execution_count": null,
   "id": "6b741d6d-3b4d-4d5e-b9b6-610203e3b33c",
   "metadata": {},
   "outputs": [],
   "source": [
    "pip install kafka-python"
   ]
  },
  {
   "cell_type": "code",
   "execution_count": null,
   "id": "6ad19428-f290-4465-816c-f2a667c72ec9",
   "metadata": {},
   "outputs": [],
   "source": [
    "import pandas as pd\n",
    "from kafka import KafkaProducer\n",
    "from time import sleep\n",
    "from json import dumps\n",
    "import json"
   ]
  },
  {
   "cell_type": "code",
   "execution_count": null,
   "id": "6d30ad86-600b-42f8-96bd-a03d108f6f37",
   "metadata": {},
   "outputs": [],
   "source": [
    "producer = KafkaProducer(bootstrap_servers=['3.141.19.149:9092'], \n",
    "                         value_serializer=lambda x: \n",
    "                         dumps(x).encode('utf-8'))"
   ]
  },
  {
   "cell_type": "code",
   "execution_count": null,
   "id": "a58cc85f-0935-46ee-a9ae-ad1320848556",
   "metadata": {},
   "outputs": [],
   "source": [
    "producer.send('demo_test', value={'lastname':'shah'})"
   ]
  },
  {
   "cell_type": "code",
   "execution_count": null,
   "id": "af15f5bf-687a-4738-9a2e-d21280f58068",
   "metadata": {},
   "outputs": [],
   "source": [
    "df = pd.read_csv(\"C:/Users/mugdh/OneDrive/Documents/stock market project/indexProcessed.csv\")"
   ]
  },
  {
   "cell_type": "code",
   "execution_count": null,
   "id": "f408d51c-da67-4b45-a563-d27aa559f8a3",
   "metadata": {},
   "outputs": [],
   "source": [
    "df.head()"
   ]
  },
  {
   "cell_type": "code",
   "execution_count": null,
   "id": "9fd143ba-6c12-4379-b8d2-934ea1ee3b1c",
   "metadata": {},
   "outputs": [],
   "source": [
    "while True:\n",
    "    dict_stock = df.sample(1).to_dict(orient=\"records\")[0] #for producing the data and sending to consumer and onto the S3 bucket\n",
    "    producer.send('demo_test', value=dict_stock)\n",
    "    time.sleep(1) #so that we dont overload the server"
   ]
  },
  {
   "cell_type": "code",
   "execution_count": null,
   "id": "9be31f35-0bee-492d-a6a8-b917b7c7c511",
   "metadata": {},
   "outputs": [],
   "source": [
    "producer.flush() #clear data from kafka server"
   ]
  }
 ],
 "metadata": {
  "kernelspec": {
   "display_name": "Python 3 (ipykernel)",
   "language": "python",
   "name": "python3"
  },
  "language_info": {
   "codemirror_mode": {
    "name": "ipython",
    "version": 3
   },
   "file_extension": ".py",
   "mimetype": "text/x-python",
   "name": "python",
   "nbconvert_exporter": "python",
   "pygments_lexer": "ipython3",
   "version": "3.12.4"
  }
 },
 "nbformat": 4,
 "nbformat_minor": 5
}
